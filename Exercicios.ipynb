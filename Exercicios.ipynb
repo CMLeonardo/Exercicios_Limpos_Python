{
 "cells": [
  {
   "cell_type": "markdown",
   "metadata": {},
   "source": [
    "# Caderno de Estudos - Python"
   ]
  },
  {
   "cell_type": "markdown",
   "metadata": {},
   "source": [
    "## Saída de Dados\n",
    "\n",
    "### Formatadores\n",
    "- <strong>String</strong><br>\n",
    "    {dado: <strong><</strong> tamanho}<br>\n",
    "    {dado: <strong>></strong> tamanho}<br>\n",
    "    {dado: <strong>^</strong> tamanho}<br><br>\n",
    "- <strong>Inteiros</strong><br>\n",
    "    {dado: d} -> Decimal<br>\n",
    "    {dado: x} -> Hexadecimal<br>\n",
    "    {dado: o} -> Octadeciaml<br>\n",
    "    {dado: b} -> Binário<br><br>\n",
    "- <strong>Float</strong><br>\n",
    "    {dado: .<strong>tamanho</strong>f} -> Imprime o tamanho após a vírgula<br>\n",
    "    {dado: e} -> Formata em tamanho e<br>\n",
    "    {dado: .<strong>tamanho</strong>e} -> Junção dos dois de cima<br><br>\n",
    "- <strong>Data e Tempo</strong><br>\n",
    "    {dado: %Y-%m-%d} -> Ano, Mês e Dia<br>\n",
    "    {dado: %H-%M-%S} -> Hora, Minutos e Segundos<br>\n",
    "    {dado: %Y-%m-%d %H:%M} -> Ano, Mês e Dia Hora, Minutos<br><br>\n",
    "\n",
    "### Escape\n",
    "- <strong>Barra Invertida:</strong> \\\\\\\n",
    "- <strong>Aspa Simples:</strong> \\\\'\n",
    "- <strong>Aspa Dupla:</strong> \\\\\"\n",
    "- <strong>Nova Linha:</strong> \\\\n\n",
    "- <strong>Tab:</strong> \\\\t\n",
    "- <strong>Tab Vertical:</strong> \\\\v\n",
    "- <strong>Backspace:</strong> \\\\b"
   ]
  },
  {
   "cell_type": "markdown",
   "metadata": {},
   "source": [
    "### Desafio"
   ]
  },
  {
   "cell_type": "code",
   "execution_count": null,
   "metadata": {},
   "outputs": [],
   "source": [
    "nome = \"Anália Shimizu Siqueira Nobrega\"\n",
    "idade = 23\n",
    "salario = 8457.9234\n",
    "nacionalidade = \"Brasileira\"\n",
    "\n",
    "print(f\"Nome: {nome}\")\n",
    "print(f\"Idade: {idade: d}\")\n",
    "print(f\"Idade Binário: {idade: b}\")\n",
    "print(f\"Salário Completo: {salario}\")\n",
    "print(f\"Salário Resumido: {salario: .2f}\")\n",
    "print(f\"Salário e: {salario: .2e}\")\n",
    "print(f\"\\t Nacionalidade: {nacionalidade}\")\n",
    "print(f\"\\\"Nacionalidade\\': {nacionalidade}\")\n"
   ]
  },
  {
   "cell_type": "markdown",
   "metadata": {},
   "source": [
    "## Variáveis\n",
    "\n",
    "### Tipos Primitivos (Usamos para conversões forçadas):\n",
    "- <strong>str:</strong> Dados do tipo texto\n",
    "- <strong>int:</strong> Números inteiros\n",
    "- <strong>float:</strong> Números com casas decimais\n",
    "- <strong>bool:</strong> Booleano"
   ]
  },
  {
   "cell_type": "markdown",
   "metadata": {},
   "source": [
    "## Palavras Reservadas\n",
    "\n",
    "![Imagem](img/palavras_reservadas.png)"
   ]
  },
  {
   "cell_type": "markdown",
   "metadata": {},
   "source": [
    "## Bibliotecas Padrão\n",
    "- os\n",
    "- sys\n",
    "- math\n",
    "- random\n",
    "- datetime\n",
    "- collections\n",
    "- json"
   ]
  },
  {
   "cell_type": "markdown",
   "metadata": {},
   "source": [
    "## Funções Nativas\n",
    "\n",
    "![Imagem Funções Nativas](img/funcoes_nativas.png)"
   ]
  },
  {
   "cell_type": "markdown",
   "metadata": {},
   "source": []
  }
 ],
 "metadata": {
  "kernelspec": {
   "display_name": "Python 3",
   "language": "python",
   "name": "python3"
  },
  "language_info": {
   "codemirror_mode": {
    "name": "ipython",
    "version": 3
   },
   "file_extension": ".py",
   "mimetype": "text/x-python",
   "name": "python",
   "nbconvert_exporter": "python",
   "pygments_lexer": "ipython3",
   "version": "3.12.10"
  }
 },
 "nbformat": 4,
 "nbformat_minor": 2
}
